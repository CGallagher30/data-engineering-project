{
 "cells": [
  {
   "cell_type": "code",
   "execution_count": 1,
   "id": "a8e1a5bd",
   "metadata": {},
   "outputs": [],
   "source": [
    "# Importing packages\n",
    "import time, random\n",
    "import requests\n",
    "from bs4 import BeautifulSoup as bs\n",
    "import re\n",
    "import pandas as pd"
   ]
  },
  {
   "cell_type": "code",
   "execution_count": 2,
   "id": "bcbb956c",
   "metadata": {},
   "outputs": [],
   "source": [
    "# SQL setup\n",
    "from sqlalchemy import create_engine\n",
    "# connect to a local database\n",
    "engine = create_engine(\"sqlite:///pgastats.db\")"
   ]
  },
  {
   "cell_type": "code",
   "execution_count": 3,
   "id": "12168458",
   "metadata": {},
   "outputs": [
    {
     "name": "stdout",
     "output_type": "stream",
     "text": [
      "200\n"
     ]
    }
   ],
   "source": [
    "url='https://www.pgatour.com/stats/stat.02674.y2022.eoff.t028.html' \n",
    "time.sleep(1+2*random.random())\n",
    "response=requests.get(url)\n",
    "time.sleep(1+2*random.random())\n",
    "print(response.status_code)\n",
    "html=response.text\n",
    "soup=bs(html)"
   ]
  },
  {
   "cell_type": "code",
   "execution_count": 4,
   "id": "c9afbc31",
   "metadata": {},
   "outputs": [],
   "source": [
    "# Grab the statistic name\n",
    "#stat_name=soup.find('section',class_='statistics-details-content').find('h1').text\n",
    "stat_name=soup.find('div',class_='breadcrumbs').find('a',class_='current').text\n",
    "\n"
   ]
  },
  {
   "cell_type": "code",
   "execution_count": 5,
   "id": "4c198f5e",
   "metadata": {},
   "outputs": [],
   "source": [
    "# Grab the year\n",
    "year=soup.find('div',class_='statistics-details-select-wrap season').find('option',selected='selected').text\n"
   ]
  },
  {
   "cell_type": "code",
   "execution_count": 6,
   "id": "ad6ec161",
   "metadata": {},
   "outputs": [],
   "source": [
    "# Grab the time period\n",
    "time_period=soup.find('div',class_='statistics-details-select-wrap period').find('option',selected='selected').text"
   ]
  },
  {
   "cell_type": "code",
   "execution_count": 7,
   "id": "542e4e9f",
   "metadata": {},
   "outputs": [],
   "source": [
    "# Grab the tournament name\n",
    "tournament_name=soup.find('div',class_='statistics-details-select-wrap tournament').find('option',selected='selected').text\n"
   ]
  },
  {
   "cell_type": "code",
   "execution_count": 8,
   "id": "f996d0d8",
   "metadata": {},
   "outputs": [],
   "source": [
    "# Grabs HTML of entire table\n",
    "\n",
    "table=soup.find('div',class_='details-table-wrap')"
   ]
  },
  {
   "cell_type": "code",
   "execution_count": 9,
   "id": "c404d737",
   "metadata": {},
   "outputs": [],
   "source": [
    "# Grabs just the header of the table (columns)\n",
    "\n",
    "table_head=table.find('thead')"
   ]
  },
  {
   "cell_type": "code",
   "execution_count": 10,
   "id": "5e4b0bfe",
   "metadata": {},
   "outputs": [],
   "source": [
    "# Grabs the column name indiviual tags\n",
    "\n",
    "columns=table_head.find_all('th')"
   ]
  },
  {
   "cell_type": "code",
   "execution_count": 11,
   "id": "9caaca09",
   "metadata": {},
   "outputs": [],
   "source": [
    "# Loop through column tags and save the column names to list\n",
    "column_names=[]\n",
    "for tag in columns:\n",
    "    column_names.append(tag.text.strip())"
   ]
  },
  {
   "cell_type": "code",
   "execution_count": 12,
   "id": "2a11263f",
   "metadata": {},
   "outputs": [],
   "source": [
    "# Grabs the body of the table (rows)\n",
    "\n",
    "table_body=table.find('tbody')"
   ]
  },
  {
   "cell_type": "code",
   "execution_count": 13,
   "id": "a711ab55",
   "metadata": {},
   "outputs": [],
   "source": [
    "# Grabs the row indiviual tags\n",
    "\n",
    "rows=table_body.find_all('tr')"
   ]
  },
  {
   "cell_type": "code",
   "execution_count": 14,
   "id": "7bb27cbf",
   "metadata": {},
   "outputs": [],
   "source": [
    "# Build a list of lists that contains the values from each row\n",
    "\n",
    "row_list=[]\n",
    "for tag in rows:\n",
    "    values=tag.find_all('td')\n",
    "    value_list=[]\n",
    "    for value_tag in values:\n",
    "        value_list.append(value_tag.text.strip())\n",
    "    row_list.append(value_list)"
   ]
  },
  {
   "cell_type": "code",
   "execution_count": null,
   "id": "0b88a46c",
   "metadata": {},
   "outputs": [],
   "source": [
    "\n"
   ]
  },
  {
   "cell_type": "code",
   "execution_count": null,
   "id": "76930b9a",
   "metadata": {},
   "outputs": [],
   "source": []
  },
  {
   "cell_type": "code",
   "execution_count": 15,
   "id": "4bed5b42",
   "metadata": {},
   "outputs": [],
   "source": [
    "row_dict_list=[]\n",
    "for row in row_list:\n",
    "    dictionary=dict(zip(column_names,row))\n",
    "    row_dict_list.append(dictionary)"
   ]
  },
  {
   "cell_type": "code",
   "execution_count": 16,
   "id": "579d316c",
   "metadata": {},
   "outputs": [],
   "source": [
    "df=pd.DataFrame(row_dict_list)"
   ]
  },
  {
   "cell_type": "code",
   "execution_count": 17,
   "id": "e5e1d918",
   "metadata": {},
   "outputs": [],
   "source": [
    "df['Year']=year\n",
    "df['Time Period']=time_period\n",
    "df['Tournament']=tournament_name"
   ]
  },
  {
   "cell_type": "code",
   "execution_count": 18,
   "id": "2ce718cb",
   "metadata": {},
   "outputs": [
    {
     "data": {
      "text/html": [
       "<div>\n",
       "<style scoped>\n",
       "    .dataframe tbody tr th:only-of-type {\n",
       "        vertical-align: middle;\n",
       "    }\n",
       "\n",
       "    .dataframe tbody tr th {\n",
       "        vertical-align: top;\n",
       "    }\n",
       "\n",
       "    .dataframe thead th {\n",
       "        text-align: right;\n",
       "    }\n",
       "</style>\n",
       "<table border=\"1\" class=\"dataframe\">\n",
       "  <thead>\n",
       "    <tr style=\"text-align: right;\">\n",
       "      <th></th>\n",
       "      <th>Year</th>\n",
       "      <th>Time Period</th>\n",
       "      <th>Tournament</th>\n",
       "    </tr>\n",
       "  </thead>\n",
       "  <tbody>\n",
       "  </tbody>\n",
       "</table>\n",
       "</div>"
      ],
      "text/plain": [
       "Empty DataFrame\n",
       "Columns: [Year, Time Period, Tournament]\n",
       "Index: []"
      ]
     },
     "execution_count": 18,
     "metadata": {},
     "output_type": "execute_result"
    }
   ],
   "source": [
    "df"
   ]
  },
  {
   "cell_type": "code",
   "execution_count": 19,
   "id": "a3b251c6",
   "metadata": {},
   "outputs": [
    {
     "data": {
      "text/plain": [
       "0"
      ]
     },
     "execution_count": 19,
     "metadata": {},
     "output_type": "execute_result"
    }
   ],
   "source": [
    "df.to_sql('%s_%s_%s_%s'%(stat_name,year,time_period,tournament_name),engine,index=False)"
   ]
  },
  {
   "cell_type": "code",
   "execution_count": null,
   "id": "a56a64aa",
   "metadata": {},
   "outputs": [],
   "source": []
  },
  {
   "cell_type": "code",
   "execution_count": null,
   "id": "d9f487c6",
   "metadata": {},
   "outputs": [],
   "source": []
  },
  {
   "cell_type": "code",
   "execution_count": null,
   "id": "c57b45bb",
   "metadata": {},
   "outputs": [],
   "source": []
  }
 ],
 "metadata": {
  "kernelspec": {
   "display_name": "Python 3 (engineering)",
   "language": "python",
   "name": "engineering"
  },
  "language_info": {
   "codemirror_mode": {
    "name": "ipython",
    "version": 3
   },
   "file_extension": ".py",
   "mimetype": "text/x-python",
   "name": "python",
   "nbconvert_exporter": "python",
   "pygments_lexer": "ipython3",
   "version": "3.9.12"
  }
 },
 "nbformat": 4,
 "nbformat_minor": 5
}
